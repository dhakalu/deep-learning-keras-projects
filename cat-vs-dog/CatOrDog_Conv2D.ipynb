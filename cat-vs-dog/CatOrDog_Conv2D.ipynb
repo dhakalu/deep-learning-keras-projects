{
 "cells": [
  {
   "cell_type": "markdown",
   "metadata": {},
   "source": [
    "# Preparing Data\n",
    "\n",
    "For this project, I am using the dataset from `Kaggle's` Dog vs Cat competition. I downloaded the zip file extracted it in my project's root directory and extracted the train.zip. Kaggle's train data set contains 25000 images which is difficult to process, hence I have randomly selected 2000 (1000 cats, 1000 dogs) images for training. Also, deleted the test.zip  as I am creating test data set also from their training data set.\n",
    "\n",
    "## Create Folders to hold different data sets"
   ]
  },
  {
   "cell_type": "code",
   "execution_count": 13,
   "metadata": {},
   "outputs": [
    {
     "name": "stdout",
     "output_type": "stream",
     "text": [
      "Seems like data is already set up. Skipping!\n"
     ]
    }
   ],
   "source": [
    "# create data\n",
    "import os\n",
    "import glob \n",
    "import random \n",
    "import shutil\n",
    "\n",
    "\n",
    "project_path = 'D:\\\\deep-learning\\\\learning-keras\\\\cat-vs-dog'\n",
    "os.chdir(project_path)\n",
    "if os.path.isdir('train/dog') is False:\n",
    "    os.makedirs('train/dog')\n",
    "    os.makedirs('train/cat')\n",
    "    os.makedirs('test/dog')\n",
    "    os.makedirs('test/cat')\n",
    "    os.makedirs('valid/dog')\n",
    "    os.makedirs('valid/cat')\n",
    "    \n",
    "    for c in random.sample(glob.glob('dog*'), 1000):\n",
    "        shutil.move(c, 'train/dog')\n",
    "    for c in random.sample(glob.glob('cat*'), 1000):\n",
    "        shutil.move(c, 'train/cat')\n",
    "    for c in random.sample(glob.glob('dog*'), 200):\n",
    "        shutil.move(c, 'valid/dog')\n",
    "    for c in random.sample(glob.glob('cat*'), 200):\n",
    "        shutil.move(c, 'valid/cat')\n",
    "    for c in random.sample(glob.glob('dog*'), 100):\n",
    "        shutil.move(c, 'test/dog')\n",
    "    for c in random.sample(glob.glob('cat*'), 100):\n",
    "        shutil.move(c, 'test/cat')\n",
    "else:\n",
    "    print('Seems like data is already set up. Skipping!')"
   ]
  },
  {
   "cell_type": "code",
   "execution_count": 14,
   "metadata": {},
   "outputs": [],
   "source": [
    "os.chdir(project_path)\n",
    "train_path = 'train'\n",
    "test_path = 'test'\n",
    "validation_path = 'valid'"
   ]
  },
  {
   "cell_type": "markdown",
   "metadata": {},
   "source": [
    "# Building a model"
   ]
  },
  {
   "cell_type": "code",
   "execution_count": 35,
   "metadata": {},
   "outputs": [],
   "source": [
    "import tensorflow as tf\n",
    "from tensorflow.keras.applications.vgg16 import preprocess_input \n",
    "from tensorflow.keras.preprocessing.image import ImageDataGenerator\n",
    "from tensorflow.keras import Sequential\n",
    "from tensorflow.keras.layers import Conv2D, MaxPool2D, Flatten, Dense\n",
    "from tensorflow.keras.optimizers import Adam"
   ]
  },
  {
   "cell_type": "code",
   "execution_count": 31,
   "metadata": {},
   "outputs": [
    {
     "name": "stdout",
     "output_type": "stream",
     "text": [
      "loading images from training dataset\n",
      "Found 2000 images belonging to 2 classes.\n",
      "completed loading images from training dataset\n",
      "loading vlidation images\n",
      "Found 400 images belonging to 2 classes.\n",
      "completed loading validation images\n",
      "loading images from test dataset\n",
      "Found 200 images belonging to 2 classes.\n",
      "completed loading images from test dataset\n"
     ]
    }
   ],
   "source": [
    "image_size = (224, 224)\n",
    "\n",
    "print('loading images from training dataset')\n",
    "train_batches = ImageDataGenerator(preprocessing_function=preprocess_input)\\\n",
    "    .flow_from_directory(batch_size=10, directory=train_path, target_size=image_size, classes=['cat', 'dog'])\n",
    "print('completed loading images from training dataset')\n",
    "\n",
    "print('loading vlidation images')\n",
    "validation_batches = ImageDataGenerator(preprocessing_function=preprocess_input)\\\n",
    "    .flow_from_directory(batch_size=10, directory=validation_path, target_size=image_size, classes=['cat', 'dog'])\n",
    "print('completed loading validation images')\n",
    "\n",
    "print('loading images from test dataset')\n",
    "test_batches = ImageDataGenerator(preprocessing_function=preprocess_input)\\\n",
    "    .flow_from_directory(batch_size=10, directory=test_path, target_size=image_size, classes=['cat', 'dog'], shuffle=False)\n",
    "print('completed loading images from test dataset')"
   ]
  },
  {
   "cell_type": "code",
   "execution_count": 51,
   "metadata": {},
   "outputs": [],
   "source": [
    "model = Sequential()\n",
    "\n",
    "# first hidden layer\n",
    "# padding =  same means we will add 0 paddings to maintain the size of output same as the size of input after convolving  \n",
    "# size is 244 * 244, 3 is for rgb\n",
    "model.add(Conv2D(filters=32, kernel_size=(3, 3), activation='relu', padding='same', input_shape=(224, 224, 3)))\n",
    "\n",
    "model.add(MaxPool2D(pool_size=(2, 2), strides=2))\n",
    "\n",
    "model.add(Conv2D(filters=64, kernel_size=(3, 3), activation='relu', padding='same'))\n",
    "\n",
    "model.add(MaxPool2D(pool_size=(2, 2), strides=2))\n",
    "\n",
    "model.add(Flatten())\n",
    "\n",
    "model.add(Dense(units=2, activation='softmax'))"
   ]
  },
  {
   "cell_type": "code",
   "execution_count": 52,
   "metadata": {},
   "outputs": [
    {
     "name": "stdout",
     "output_type": "stream",
     "text": [
      "Model: \"sequential_8\"\n",
      "_________________________________________________________________\n",
      "Layer (type)                 Output Shape              Param #   \n",
      "=================================================================\n",
      "conv2d_15 (Conv2D)           (None, 224, 224, 32)      896       \n",
      "_________________________________________________________________\n",
      "max_pooling2d_14 (MaxPooling (None, 112, 112, 32)      0         \n",
      "_________________________________________________________________\n",
      "conv2d_16 (Conv2D)           (None, 112, 112, 64)      18496     \n",
      "_________________________________________________________________\n",
      "max_pooling2d_15 (MaxPooling (None, 56, 56, 64)        0         \n",
      "_________________________________________________________________\n",
      "flatten_6 (Flatten)          (None, 200704)            0         \n",
      "_________________________________________________________________\n",
      "dense_5 (Dense)              (None, 2)                 401410    \n",
      "=================================================================\n",
      "Total params: 420,802\n",
      "Trainable params: 420,802\n",
      "Non-trainable params: 0\n",
      "_________________________________________________________________\n"
     ]
    }
   ],
   "source": [
    "model.summary()"
   ]
  },
  {
   "cell_type": "code",
   "execution_count": 53,
   "metadata": {},
   "outputs": [],
   "source": [
    "model.compile(optimizer=Adam(learning_rate=0.001), loss='categorical_crossentropy', metrics=['accuracy'])"
   ]
  },
  {
   "cell_type": "code",
   "execution_count": 54,
   "metadata": {
    "scrolled": false
   },
   "outputs": [
    {
     "name": "stdout",
     "output_type": "stream",
     "text": [
      "WARNING:tensorflow:sample_weight modes were coerced from\n",
      "  ...\n",
      "    to  \n",
      "  ['...']\n",
      "WARNING:tensorflow:sample_weight modes were coerced from\n",
      "  ...\n",
      "    to  \n",
      "  ['...']\n",
      "Train for 200 steps, validate for 40 steps\n",
      "Epoch 1/10\n",
      "200/200 - 84s - loss: 20.6400 - accuracy: 0.5235 - val_loss: 0.6961 - val_accuracy: 0.5475\n",
      "Epoch 2/10\n",
      "200/200 - 73s - loss: 0.6352 - accuracy: 0.6415 - val_loss: 0.7089 - val_accuracy: 0.5750\n",
      "Epoch 3/10\n",
      "200/200 - 74s - loss: 0.5281 - accuracy: 0.7515 - val_loss: 0.7042 - val_accuracy: 0.5850\n",
      "Epoch 4/10\n",
      "200/200 - 74s - loss: 0.4290 - accuracy: 0.8470 - val_loss: 0.9835 - val_accuracy: 0.6000\n",
      "Epoch 5/10\n",
      "200/200 - 78s - loss: 0.1622 - accuracy: 0.9465 - val_loss: 1.1644 - val_accuracy: 0.6075\n",
      "Epoch 6/10\n",
      "200/200 - 73s - loss: 0.1153 - accuracy: 0.9630 - val_loss: 1.2981 - val_accuracy: 0.5700\n",
      "Epoch 7/10\n",
      "200/200 - 73s - loss: 0.1088 - accuracy: 0.9695 - val_loss: 1.6385 - val_accuracy: 0.5975\n",
      "Epoch 8/10\n",
      "200/200 - 74s - loss: 0.1385 - accuracy: 0.9555 - val_loss: 1.4636 - val_accuracy: 0.6075\n",
      "Epoch 9/10\n",
      "200/200 - 83s - loss: 0.0416 - accuracy: 0.9850 - val_loss: 2.0234 - val_accuracy: 0.6000\n",
      "Epoch 10/10\n",
      "200/200 - 74s - loss: 0.0277 - accuracy: 0.9930 - val_loss: 1.9452 - val_accuracy: 0.5975\n"
     ]
    },
    {
     "data": {
      "text/plain": [
       "<tensorflow.python.keras.callbacks.History at 0x20a1acd5c88>"
      ]
     },
     "execution_count": 54,
     "metadata": {},
     "output_type": "execute_result"
    }
   ],
   "source": [
    "# we do not pass y here because the generators usually contain y value in them\n",
    "model.fit(x=train_batches, validation_data=validation_batches, epochs=10, verbose=2)"
   ]
  },
  {
   "cell_type": "markdown",
   "metadata": {},
   "source": [
    "# Prediction"
   ]
  },
  {
   "cell_type": "code",
   "execution_count": 76,
   "metadata": {},
   "outputs": [],
   "source": [
    "import numpy as np\n",
    "from sklearn.metrics import confusion_matrix, ConfusionMatrixDisplay"
   ]
  },
  {
   "cell_type": "code",
   "execution_count": 70,
   "metadata": {},
   "outputs": [],
   "source": [
    "predictions = model.predict(x=test_batches, verbose=0)"
   ]
  },
  {
   "cell_type": "code",
   "execution_count": 71,
   "metadata": {},
   "outputs": [],
   "source": [
    "rounded_predictions = np.argmax(predictions, axis=-1)"
   ]
  },
  {
   "cell_type": "code",
   "execution_count": 72,
   "metadata": {},
   "outputs": [
    {
     "data": {
      "text/plain": [
       "array([1, 1, 1, 1, 0, 1, 0, 0, 1, 0, 0, 0, 0, 1, 0, 0, 1, 0, 0, 1, 0, 0,\n",
       "       0, 1, 0, 0, 0, 1, 1, 0, 0, 1, 1, 0, 1, 0, 0, 0, 1, 0, 0, 1, 0, 0,\n",
       "       0, 0, 0, 0, 1, 0, 0, 0, 1, 0, 1, 0, 1, 1, 1, 0, 1, 0, 1, 0, 0, 1,\n",
       "       1, 1, 0, 1, 1, 1, 1, 1, 1, 1, 1, 0, 0, 1, 0, 0, 0, 1, 0, 1, 1, 0,\n",
       "       0, 0, 1, 1, 1, 1, 0, 0, 0, 0, 0, 1, 1, 0, 0, 0, 1, 1, 1, 0, 0, 1,\n",
       "       0, 0, 1, 0, 0, 1, 0, 1, 1, 0, 1, 1, 0, 1, 0, 1, 1, 0, 1, 1, 0, 0,\n",
       "       1, 0, 1, 1, 0, 0, 1, 0, 1, 1, 1, 0, 1, 1, 1, 0, 1, 0, 0, 0, 1, 1,\n",
       "       0, 1, 1, 1, 0, 0, 1, 1, 1, 1, 1, 0, 0, 1, 0, 1, 1, 1, 0, 0, 1, 0,\n",
       "       0, 0, 1, 0, 1, 0, 0, 0, 1, 1, 1, 0, 0, 1, 1, 1, 1, 0, 1, 1, 0, 1,\n",
       "       1, 1], dtype=int64)"
      ]
     },
     "execution_count": 72,
     "metadata": {},
     "output_type": "execute_result"
    }
   ],
   "source": [
    "rounded_predictions"
   ]
  },
  {
   "cell_type": "code",
   "execution_count": 78,
   "metadata": {},
   "outputs": [
    {
     "data": {
      "image/png": "[encoded data removed]",
      "text/plain": [
       "<Figure size 432x288 with 2 Axes>"
      ]
     },
     "metadata": {
      "needs_background": "light"
     },
     "output_type": "display_data"
    }
   ],
   "source": [
    "cm = confusion_matrix(y_true=test_batches.classes, y_pred=rounded_predictions)\n",
    "display = ConfusionMatrixDisplay(confusion_matrix=cm, display_labels=['cat', 'dog'])\n",
    "display = display.plot()"
   ]
  },
  {
   "cell_type": "code",
   "execution_count": null,
   "metadata": {},
   "outputs": [],
   "source": []
  }
 ],
 "metadata": {
  "kernelspec": {
   "display_name": "Python 3",
   "language": "python",
   "name": "python3"
  },
  "language_info": {
   "codemirror_mode": {
    "name": "ipython",
    "version": 3
   },
   "file_extension": ".py",
   "mimetype": "text/x-python",
   "name": "python",
   "nbconvert_exporter": "python",
   "pygments_lexer": "ipython3",
   "version": "3.7.6"
  }
 },
 "nbformat": 4,
 "nbformat_minor": 4
}
