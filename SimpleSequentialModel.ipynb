{
 "cells": [
  {
   "cell_type": "markdown",
   "metadata": {},
   "source": [
    "# Format of the data\n",
    "\n",
    "When we create a model we must pre process our data in certain format. Keras `fit` function expects `x` and `y` data, `x` being the input or sample data and `y` being the output or target data for the given `x`.\n",
    "\n",
    "* `x` can either be one of: \n",
    "    * numpy array\n",
    "    * a tensor or a list of tensors\n",
    "    * dictonary mapping input names to corresponding numpy array or tensors (useful in named inputs)\n",
    "    * tf.data dataset\n",
    "    * A generator/`keras.utils.Sequence` \n",
    "* `y` always has to be in the same format as `x`"
   ]
  },
  {
   "cell_type": "markdown",
   "metadata": {},
   "source": [
    "# Data Prepration and Processing\n",
    "\n",
    "Now we know what kind of data our model expects, we can prepare data to train our model. "
   ]
  },
  {
   "cell_type": "code",
   "execution_count": 17,
   "metadata": {},
   "outputs": [],
   "source": [
    "import numpy as np\n",
    "from random import randint\n",
    "from sklearn.utils import shuffle\n",
    "from sklearn.preprocessing import MinMaxScaler\n",
    "from sklearn.model_selection import train_test_split"
   ]
  },
  {
   "cell_type": "markdown",
   "metadata": {},
   "source": [
    "## Example Data - Hypothetical Covid-19 Trial\n",
    "\n",
    "### Trial Details\n",
    "\n",
    "* An experimental drug was tested on individuals from ages 13 to 100 in a clinical trial of covid-19.\n",
    "* The traisl has 3000 participants. Half were under 65 years old, half were 65 years or older.\n",
    "\n",
    "### Findings \n",
    "* Around 85% of patients who were 65 or older experienced side effects.\n",
    "* Around 85% of patients who were under 65 experienced no side effects."
   ]
  },
  {
   "cell_type": "code",
   "execution_count": 57,
   "metadata": {},
   "outputs": [],
   "source": [
    "# create sample data \n",
    "\n",
    "ages = []\n",
    "labels = [] #1 -- had side effect 0 -- no side effect\n",
    "\n",
    "random_younger_population = [randint(13,64) for x in range(1500)]\n",
    "ages.extend(random_younger_population)\n",
    "# 15% of 1500 yonger people experienced side effect \n",
    "labels.extend([1 for x in range(225)])\n",
    "labels.extend([0 for x in range(1275)])\n",
    "\n",
    "\n",
    "random_older_population = [randint(65, 100) for x in range(1500)]\n",
    "ages.extend(random_older_population)\n",
    "# 85% of 1500 older people experienced side effect \n",
    "labels.extend([1 for x in range(1275)])\n",
    "labels.extend([0 for x in range(225)])\n",
    "\n",
    "ages = np.array(ages)\n",
    "labels = np.array(labels)\n",
    "\n",
    "ages, labels = shuffle(ages, labels)\n"
   ]
  },
  {
   "cell_type": "code",
   "execution_count": 22,
   "metadata": {},
   "outputs": [],
   "source": [
    "X_train, X_test, y_train, y_test = train_test_split(ages, labels, test_size=0.33)"
   ]
  },
  {
   "cell_type": "code",
   "execution_count": 23,
   "metadata": {},
   "outputs": [],
   "source": [
    "# rescale data to be in between 0 to 1 instead of 13 to 65. This is to \n",
    "# simplify the data so we can optimize the model and run it faster\n",
    "scaler = MinMaxScaler(feature_range=(0,1))\n",
    "scaled_X_train = scaler.fit_transform(X_train.reshape(-1, 1))"
   ]
  },
  {
   "cell_type": "markdown",
   "metadata": {},
   "source": [
    "# Building a model "
   ]
  },
  {
   "cell_type": "code",
   "execution_count": 36,
   "metadata": {},
   "outputs": [],
   "source": [
    "import tensorflow as tf\n",
    "from tensorflow import keras\n",
    "from tensorflow.keras.models import Sequential \n",
    "from tensorflow.keras.layers import Activation, Dense"
   ]
  },
  {
   "cell_type": "code",
   "execution_count": 29,
   "metadata": {},
   "outputs": [
    {
     "name": "stdout",
     "output_type": "stream",
     "text": [
      "Num of GPUs available:  0\n"
     ]
    }
   ],
   "source": [
    "# check to see if gups are avialable \n",
    "physical_devices = tf.config.experimental.list_physical_devices('GPU')\n",
    "print('Num of GPUs available: ', len(physical_devices))\n",
    "if len(physical_devices) > 0: \n",
    "    tf.config.experimental.set_memory_growth(physical_devices[0], True)"
   ]
  },
  {
   "cell_type": "code",
   "execution_count": 61,
   "metadata": {},
   "outputs": [
    {
     "name": "stdout",
     "output_type": "stream",
     "text": [
      "Model: \"sequential_5\"\n",
      "_________________________________________________________________\n",
      "Layer (type)                 Output Shape              Param #   \n",
      "=================================================================\n",
      "dense_12 (Dense)             (None, 16)                32        \n",
      "_________________________________________________________________\n",
      "dense_13 (Dense)             (None, 32)                544       \n",
      "_________________________________________________________________\n",
      "dense_14 (Dense)             (None, 2)                 66        \n",
      "=================================================================\n",
      "Total params: 642\n",
      "Trainable params: 642\n",
      "Non-trainable params: 0\n",
      "_________________________________________________________________\n"
     ]
    }
   ],
   "source": [
    "model = Sequential()\n",
    "\n",
    "# 1st hidden layer\n",
    "model.add(Dense(16, input_shape=(1,), activation='relu'))\n",
    "# 2nd hidden layer\n",
    "model.add(Dense(units=32, activation='relu'))\n",
    "# output layer\n",
    "model.add(Dense(units=2, activation='softmax'))\n",
    "model.summary()"
   ]
  },
  {
   "cell_type": "markdown",
   "metadata": {},
   "source": [
    "# Training Model"
   ]
  },
  {
   "cell_type": "code",
   "execution_count": 62,
   "metadata": {},
   "outputs": [],
   "source": [
    "from tensorflow.keras.optimizers import Adam\n",
    "from tensorflow.keras.losses import MeanSquaredError"
   ]
  },
  {
   "cell_type": "code",
   "execution_count": 63,
   "metadata": {},
   "outputs": [],
   "source": [
    "model.compile(optimizer=Adam(learning_rate=0.0001),\n",
    "              loss='sparse_categorical_crossentropy',\n",
    "             metrics=['accuracy'])"
   ]
  },
  {
   "cell_type": "code",
   "execution_count": 64,
   "metadata": {},
   "outputs": [
    {
     "name": "stdout",
     "output_type": "stream",
     "text": [
      "Train on 1809 samples, validate on 201 samples\n",
      "Epoch 1/30\n",
      "1809/1809 - 1s - loss: 0.6774 - accuracy: 0.5345 - val_loss: 0.6598 - val_accuracy: 0.6468\n",
      "Epoch 2/30\n",
      "1809/1809 - 0s - loss: 0.6598 - accuracy: 0.6186 - val_loss: 0.6400 - val_accuracy: 0.7015\n",
      "Epoch 3/30\n",
      "1809/1809 - 0s - loss: 0.6448 - accuracy: 0.6600 - val_loss: 0.6240 - val_accuracy: 0.7463\n",
      "Epoch 4/30\n",
      "1809/1809 - 0s - loss: 0.6311 - accuracy: 0.6799 - val_loss: 0.6088 - val_accuracy: 0.7612\n",
      "Epoch 5/30\n",
      "1809/1809 - 0s - loss: 0.6176 - accuracy: 0.7137 - val_loss: 0.5951 - val_accuracy: 0.7761\n",
      "Epoch 6/30\n",
      "1809/1809 - 0s - loss: 0.6041 - accuracy: 0.7363 - val_loss: 0.5809 - val_accuracy: 0.7761\n",
      "Epoch 7/30\n",
      "1809/1809 - 0s - loss: 0.5909 - accuracy: 0.7496 - val_loss: 0.5681 - val_accuracy: 0.8010\n",
      "Epoch 8/30\n",
      "1809/1809 - 0s - loss: 0.5780 - accuracy: 0.7689 - val_loss: 0.5557 - val_accuracy: 0.8060\n",
      "Epoch 9/30\n",
      "1809/1809 - 0s - loss: 0.5655 - accuracy: 0.7739 - val_loss: 0.5458 - val_accuracy: 0.8358\n",
      "Epoch 10/30\n",
      "1809/1809 - 0s - loss: 0.5545 - accuracy: 0.7883 - val_loss: 0.5351 - val_accuracy: 0.8358\n",
      "Epoch 11/30\n",
      "1809/1809 - 0s - loss: 0.5440 - accuracy: 0.7993 - val_loss: 0.5250 - val_accuracy: 0.8358\n",
      "Epoch 12/30\n",
      "1809/1809 - 0s - loss: 0.5346 - accuracy: 0.8010 - val_loss: 0.5168 - val_accuracy: 0.8358\n",
      "Epoch 13/30\n",
      "1809/1809 - 0s - loss: 0.5262 - accuracy: 0.8071 - val_loss: 0.5096 - val_accuracy: 0.8358\n",
      "Epoch 14/30\n",
      "1809/1809 - 0s - loss: 0.5186 - accuracy: 0.8121 - val_loss: 0.5047 - val_accuracy: 0.8358\n",
      "Epoch 15/30\n",
      "1809/1809 - 0s - loss: 0.5122 - accuracy: 0.8143 - val_loss: 0.4997 - val_accuracy: 0.8358\n",
      "Epoch 16/30\n",
      "1809/1809 - 0s - loss: 0.5067 - accuracy: 0.8220 - val_loss: 0.4951 - val_accuracy: 0.8358\n",
      "Epoch 17/30\n",
      "1809/1809 - 0s - loss: 0.5018 - accuracy: 0.8248 - val_loss: 0.4900 - val_accuracy: 0.8358\n",
      "Epoch 18/30\n",
      "1809/1809 - 0s - loss: 0.4977 - accuracy: 0.8226 - val_loss: 0.4884 - val_accuracy: 0.8358\n",
      "Epoch 19/30\n",
      "1809/1809 - 0s - loss: 0.4942 - accuracy: 0.8292 - val_loss: 0.4861 - val_accuracy: 0.8358\n",
      "Epoch 20/30\n",
      "1809/1809 - 0s - loss: 0.4912 - accuracy: 0.8248 - val_loss: 0.4839 - val_accuracy: 0.8358\n",
      "Epoch 21/30\n",
      "1809/1809 - 0s - loss: 0.4887 - accuracy: 0.8325 - val_loss: 0.4807 - val_accuracy: 0.8358\n",
      "Epoch 22/30\n",
      "1809/1809 - 0s - loss: 0.4865 - accuracy: 0.8303 - val_loss: 0.4820 - val_accuracy: 0.8507\n",
      "Epoch 23/30\n",
      "1809/1809 - 0s - loss: 0.4846 - accuracy: 0.8375 - val_loss: 0.4795 - val_accuracy: 0.8358\n",
      "Epoch 24/30\n",
      "1809/1809 - 0s - loss: 0.4831 - accuracy: 0.8292 - val_loss: 0.4784 - val_accuracy: 0.8358\n",
      "Epoch 25/30\n",
      "1809/1809 - 0s - loss: 0.4816 - accuracy: 0.8325 - val_loss: 0.4780 - val_accuracy: 0.8507\n",
      "Epoch 26/30\n",
      "1809/1809 - 0s - loss: 0.4804 - accuracy: 0.8375 - val_loss: 0.4761 - val_accuracy: 0.8358\n",
      "Epoch 27/30\n",
      "1809/1809 - 0s - loss: 0.4793 - accuracy: 0.8358 - val_loss: 0.4760 - val_accuracy: 0.8507\n",
      "Epoch 28/30\n",
      "1809/1809 - 0s - loss: 0.4786 - accuracy: 0.8320 - val_loss: 0.4769 - val_accuracy: 0.8507\n",
      "Epoch 29/30\n",
      "1809/1809 - 0s - loss: 0.4776 - accuracy: 0.8386 - val_loss: 0.4746 - val_accuracy: 0.8507\n",
      "Epoch 30/30\n",
      "1809/1809 - 0s - loss: 0.4768 - accuracy: 0.8336 - val_loss: 0.4760 - val_accuracy: 0.8507\n"
     ]
    },
    {
     "data": {
      "text/plain": [
       "<tensorflow.python.keras.callbacks.History at 0x269bcab8848>"
      ]
     },
     "execution_count": 64,
     "metadata": {},
     "output_type": "execute_result"
    }
   ],
   "source": [
    "model.fit(x=scaled_X_train, y=y_train, validation_split=0.1, batch_size=10, epochs=30, shuffle=True, verbose=2)"
   ]
  },
  {
   "cell_type": "markdown",
   "metadata": {},
   "source": [
    "# Creating Validation Data Set\n",
    "\n",
    "We can create validation data set using two methods. We can create a data set that contains (x, y) just as we created train data set and pass that to fit function using `validation_data` parameter. Or, we can simply pass `validation_split` parameter to the `fit` function as we did earlier. When we use `validation_split` it is important to remember that the shuffle of data within t"
   ]
  },
  {
   "cell_type": "code",
   "execution_count": 66,
   "metadata": {},
   "outputs": [
    {
     "data": {
      "text/plain": [
       "array([[0., 1.],\n",
       "       [0., 1.],\n",
       "       [0., 1.],\n",
       "       ...,\n",
       "       [0., 1.],\n",
       "       [0., 1.],\n",
       "       [0., 1.]], dtype=float32)"
      ]
     },
     "execution_count": 66,
     "metadata": {},
     "output_type": "execute_result"
    }
   ],
   "source": [
    "model.predict(X_test)"
   ]
  },
  {
   "cell_type": "code",
   "execution_count": null,
   "metadata": {},
   "outputs": [],
   "source": []
  }
 ],
 "metadata": {
  "kernelspec": {
   "display_name": "Python 3",
   "language": "python",
   "name": "python3"
  },
  "language_info": {
   "codemirror_mode": {
    "name": "ipython",
    "version": 3
   },
   "file_extension": ".py",
   "mimetype": "text/x-python",
   "name": "python",
   "nbconvert_exporter": "python",
   "pygments_lexer": "ipython3",
   "version": "3.7.6"
  }
 },
 "nbformat": 4,
 "nbformat_minor": 4
}
